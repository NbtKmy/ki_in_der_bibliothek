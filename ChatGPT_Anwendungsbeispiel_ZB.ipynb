{
  "nbformat": 4,
  "nbformat_minor": 0,
  "metadata": {
    "colab": {
      "provenance": [],
      "authorship_tag": "ABX9TyPXFxalJ+ga42dLDnjpJhWu",
      "include_colab_link": true
    },
    "kernelspec": {
      "name": "python3",
      "display_name": "Python 3"
    },
    "language_info": {
      "name": "python"
    }
  },
  "cells": [
    {
      "cell_type": "markdown",
      "metadata": {
        "id": "view-in-github",
        "colab_type": "text"
      },
      "source": [
        "<a href=\"https://colab.research.google.com/github/NbtKmy/ki_in_der_bibliothek/blob/main/ChatGPT_Anwendungsbeispiel_ZB.ipynb\" target=\"_parent\"><img src=\"https://colab.research.google.com/assets/colab-badge.svg\" alt=\"Open In Colab\"/></a>"
      ]
    },
    {
      "cell_type": "markdown",
      "source": [
        "# ChatGPT mit Embedding\n",
        "\n",
        "KI lügt - das Phänomen \"Halluzination\" ist mittlerweile bekannt. Auch wenn LLMs immer besser werden, bleibt sie weiterhin noch ein grosses Probelem.\n",
        "Wenn Bibliotheken einen Dienstleistung mit ein LLM wie ChatGPT konzipieren, ist eine Massnahme gegen die Halluzination notwendig.\n",
        "\n",
        "Hier in diesem Beispiel versuchen wir die Halluzination zu reduzieren, indem wir Embedding verwenden.\n",
        "(Die andere denkbare Massnahme ist Fine Tuning. Aber hier wird sie nicht berücksichtigt.)\n",
        "\n",
        "## Embedding?\n",
        "\n",
        ">Bei einer Worteinbettung (englisch word embedding) handelt es sich um eine Einbettung, bei der Worte oder andere Symbole jeweils einem Vektor v mit $v \\in \\mathbb{R}^n$ zugeordnet werden.\n",
        "\n",
        "(Wikipeida [Worteinbettung](https://de.wikipedia.org/wiki/Worteinbettung))\n",
        "\n",
        "... Worteinbettung (Vektorisierung der Wörter) ermöglicht die Berechnung der Bedeutungen der Wörter in einem Kopus...\n",
        "\n",
        "__Illustration für Worteinbettung__\n",
        "\n",
        "<img src=\"https://upload.wikimedia.org/wikipedia/commons/3/3f/Word_vector_illustration.jpg\" width=\"400\" />\n",
        "\n",
        "(Word vector illustration.jpg by Singerep, aus [Wikimedia Commons](https://commons.wikimedia.org/wiki/File:Word_vector_illustration.jpg) CC-SA)\n",
        "\n",
        "\n",
        "\n",
        "Die Embedding kann nicht nur Wörtern sondern auch Sätze/Text-Einheiten unterzogen werden.\n",
        "\n",
        "\n",
        "\n",
        "Was wir hier in diesem Beispiel machen, sieht so aus:\n",
        "\n",
        "\n",
        "\n",
        "<img src=\"https://nbtkmy.github.io/presentations/coffee_lectures/chatgpt_embedding.png\" alt=\"embedding\" width=\"400\"/>\n",
        "\n",
        "\n",
        "## Beispiel\n",
        "\n",
        "\n",
        "Als Beispiel nehmen wir das PDF-Dokument vom 1. Bericht der ZB.\n",
        "\n",
        "__Titel__: 1. Bericht der Zentralbibliothek Zürich (Öffentliche Stiftung) über die Jahre 1914-1917\n",
        "\n",
        "__Urheber__: Zentralbibliothek Zürich\n",
        "\n",
        "\n",
        "__Link__: https://doi.org/10.20384/zop-1421\n",
        "\n",
        "\n",
        "![zb](https://zop.zb.uzh.ch/retrieve/e7ca61c6-c25b-407e-b0f0-d401efa961f5/990019340740205508-0001.pdf.jpg)\n",
        "\n",
        "\n",
        "\n"
      ],
      "metadata": {
        "id": "_zX6QhDM8jWV"
      }
    },
    {
      "cell_type": "code",
      "execution_count": null,
      "metadata": {
        "colab": {
          "base_uri": "https://localhost:8080/"
        },
        "id": "mDLkuMsruoNP",
        "outputId": "763474ed-c74d-41a7-cb38-75e60a2e9a10"
      },
      "outputs": [
        {
          "output_type": "stream",
          "name": "stdout",
          "text": [
            "\u001b[?25l     \u001b[90m━━━━━━━━━━━━━━━━━━━━━━━━━━━━━━━━━━━━━━━━\u001b[0m \u001b[32m0.0/77.0 kB\u001b[0m \u001b[31m?\u001b[0m eta \u001b[36m-:--:--\u001b[0m\r\u001b[2K     \u001b[91m━━━━━━━━━━━━━━━━━━━━━━━━━━━━━━━━━━━━━\u001b[0m\u001b[90m╺\u001b[0m\u001b[90m━━\u001b[0m \u001b[32m71.7/77.0 kB\u001b[0m \u001b[31m2.5 MB/s\u001b[0m eta \u001b[36m0:00:01\u001b[0m\r\u001b[2K     \u001b[90m━━━━━━━━━━━━━━━━━━━━━━━━━━━━━━━━━━━━━━━━\u001b[0m \u001b[32m77.0/77.0 kB\u001b[0m \u001b[31m2.0 MB/s\u001b[0m eta \u001b[36m0:00:00\u001b[0m\n",
            "\u001b[2K     \u001b[90m━━━━━━━━━━━━━━━━━━━━━━━━━━━━━━━━━━━━━━━━\u001b[0m \u001b[32m448.1/448.1 kB\u001b[0m \u001b[31m11.3 MB/s\u001b[0m eta \u001b[36m0:00:00\u001b[0m\n",
            "\u001b[2K     \u001b[90m━━━━━━━━━━━━━━━━━━━━━━━━━━━━━━━━━━━━━━━━\u001b[0m \u001b[32m1.9/1.9 MB\u001b[0m \u001b[31m64.6 MB/s\u001b[0m eta \u001b[36m0:00:00\u001b[0m\n",
            "\u001b[2K     \u001b[90m━━━━━━━━━━━━━━━━━━━━━━━━━━━━━━━━━━━━━━━━\u001b[0m \u001b[32m276.6/276.6 kB\u001b[0m \u001b[31m28.2 MB/s\u001b[0m eta \u001b[36m0:00:00\u001b[0m\n",
            "\u001b[2K     \u001b[90m━━━━━━━━━━━━━━━━━━━━━━━━━━━━━━━━━━━━━━━━\u001b[0m \u001b[32m2.0/2.0 MB\u001b[0m \u001b[31m76.8 MB/s\u001b[0m eta \u001b[36m0:00:00\u001b[0m\n",
            "\u001b[2K     \u001b[90m━━━━━━━━━━━━━━━━━━━━━━━━━━━━━━━━━━━━━━━━\u001b[0m \u001b[32m2.4/2.4 MB\u001b[0m \u001b[31m71.0 MB/s\u001b[0m eta \u001b[36m0:00:00\u001b[0m\n",
            "\u001b[2K     \u001b[90m━━━━━━━━━━━━━━━━━━━━━━━━━━━━━━━━━━━━━━━━\u001b[0m \u001b[32m66.3/66.3 kB\u001b[0m \u001b[31m3.9 MB/s\u001b[0m eta \u001b[36m0:00:00\u001b[0m\n",
            "\u001b[2K     \u001b[90m━━━━━━━━━━━━━━━━━━━━━━━━━━━━━━━━━━━━━━━━\u001b[0m \u001b[32m59.5/59.5 kB\u001b[0m \u001b[31m5.3 MB/s\u001b[0m eta \u001b[36m0:00:00\u001b[0m\n",
            "\u001b[2K     \u001b[90m━━━━━━━━━━━━━━━━━━━━━━━━━━━━━━━━━━━━━━━━\u001b[0m \u001b[32m5.4/5.4 MB\u001b[0m \u001b[31m58.5 MB/s\u001b[0m eta \u001b[36m0:00:00\u001b[0m\n",
            "\u001b[2K     \u001b[90m━━━━━━━━━━━━━━━━━━━━━━━━━━━━━━━━━━━━━━━━\u001b[0m \u001b[32m6.2/6.2 MB\u001b[0m \u001b[31m50.6 MB/s\u001b[0m eta \u001b[36m0:00:00\u001b[0m\n",
            "\u001b[2K     \u001b[90m━━━━━━━━━━━━━━━━━━━━━━━━━━━━━━━━━━━━━━━━\u001b[0m \u001b[32m3.8/3.8 MB\u001b[0m \u001b[31m61.3 MB/s\u001b[0m eta \u001b[36m0:00:00\u001b[0m\n",
            "\u001b[2K     \u001b[90m━━━━━━━━━━━━━━━━━━━━━━━━━━━━━━━━━━━━━━━━\u001b[0m \u001b[32m67.3/67.3 kB\u001b[0m \u001b[31m6.1 MB/s\u001b[0m eta \u001b[36m0:00:00\u001b[0m\n",
            "\u001b[?25h  Installing build dependencies ... \u001b[?25l\u001b[?25hdone\n",
            "  Getting requirements to build wheel ... \u001b[?25l\u001b[?25hdone\n",
            "  Preparing metadata (pyproject.toml) ... \u001b[?25l\u001b[?25hdone\n",
            "\u001b[2K     \u001b[90m━━━━━━━━━━━━━━━━━━━━━━━━━━━━━━━━━━━━━━━━\u001b[0m \u001b[32m593.7/593.7 kB\u001b[0m \u001b[31m49.8 MB/s\u001b[0m eta \u001b[36m0:00:00\u001b[0m\n",
            "\u001b[2K     \u001b[90m━━━━━━━━━━━━━━━━━━━━━━━━━━━━━━━━━━━━━━━━\u001b[0m \u001b[32m40.1/40.1 kB\u001b[0m \u001b[31m4.5 MB/s\u001b[0m eta \u001b[36m0:00:00\u001b[0m\n",
            "\u001b[2K     \u001b[90m━━━━━━━━━━━━━━━━━━━━━━━━━━━━━━━━━━━━━━━━\u001b[0m \u001b[32m49.4/49.4 kB\u001b[0m \u001b[31m5.5 MB/s\u001b[0m eta \u001b[36m0:00:00\u001b[0m\n",
            "\u001b[2K     \u001b[90m━━━━━━━━━━━━━━━━━━━━━━━━━━━━━━━━━━━━━━━━\u001b[0m \u001b[32m67.0/67.0 kB\u001b[0m \u001b[31m6.5 MB/s\u001b[0m eta \u001b[36m0:00:00\u001b[0m\n",
            "\u001b[2K     \u001b[90m━━━━━━━━━━━━━━━━━━━━━━━━━━━━━━━━━━━━━━━━\u001b[0m \u001b[32m46.0/46.0 kB\u001b[0m \u001b[31m5.7 MB/s\u001b[0m eta \u001b[36m0:00:00\u001b[0m\n",
            "\u001b[2K     \u001b[90m━━━━━━━━━━━━━━━━━━━━━━━━━━━━━━━━━━━━━━━━\u001b[0m \u001b[32m295.0/295.0 kB\u001b[0m \u001b[31m31.3 MB/s\u001b[0m eta \u001b[36m0:00:00\u001b[0m\n",
            "\u001b[2K     \u001b[90m━━━━━━━━━━━━━━━━━━━━━━━━━━━━━━━━━━━━━━━━\u001b[0m \u001b[32m58.3/58.3 kB\u001b[0m \u001b[31m7.0 MB/s\u001b[0m eta \u001b[36m0:00:00\u001b[0m\n",
            "\u001b[2K     \u001b[90m━━━━━━━━━━━━━━━━━━━━━━━━━━━━━━━━━━━━━━━━\u001b[0m \u001b[32m341.4/341.4 kB\u001b[0m \u001b[31m35.9 MB/s\u001b[0m eta \u001b[36m0:00:00\u001b[0m\n",
            "\u001b[2K     \u001b[90m━━━━━━━━━━━━━━━━━━━━━━━━━━━━━━━━━━━━━━━━\u001b[0m \u001b[32m4.2/4.2 MB\u001b[0m \u001b[31m90.2 MB/s\u001b[0m eta \u001b[36m0:00:00\u001b[0m\n",
            "\u001b[2K     \u001b[90m━━━━━━━━━━━━━━━━━━━━━━━━━━━━━━━━━━━━━━━━\u001b[0m \u001b[32m1.3/1.3 MB\u001b[0m \u001b[31m57.9 MB/s\u001b[0m eta \u001b[36m0:00:00\u001b[0m\n",
            "\u001b[2K     \u001b[90m━━━━━━━━━━━━━━━━━━━━━━━━━━━━━━━━━━━━━━━━\u001b[0m \u001b[32m129.9/129.9 kB\u001b[0m \u001b[31m14.9 MB/s\u001b[0m eta \u001b[36m0:00:00\u001b[0m\n",
            "\u001b[2K     \u001b[90m━━━━━━━━━━━━━━━━━━━━━━━━━━━━━━━━━━━━━━━━\u001b[0m \u001b[32m86.8/86.8 kB\u001b[0m \u001b[31m9.1 MB/s\u001b[0m eta \u001b[36m0:00:00\u001b[0m\n",
            "\u001b[?25h  Building wheel for pypika (pyproject.toml) ... \u001b[?25l\u001b[?25hdone\n"
          ]
        }
      ],
      "source": [
        "# Libraries installieren - Wir verwenden hier Langchain\n",
        "!pip install -q openai chromadb langchain pypdf tiktoken"
      ]
    },
    {
      "cell_type": "code",
      "source": [
        "import os\n",
        "import platform\n",
        "\n",
        "import openai\n",
        "import chromadb\n",
        "import langchain\n",
        "\n",
        "from langchain.embeddings.openai import OpenAIEmbeddings\n",
        "from langchain.vectorstores import Chroma\n",
        "from langchain.text_splitter import CharacterTextSplitter\n",
        "from langchain.chat_models import ChatOpenAI\n",
        "from langchain.chains import ConversationalRetrievalChain\n",
        "from langchain.document_loaders import PyPDFLoader\n"
      ],
      "metadata": {
        "id": "jseSMJ_d2CPV"
      },
      "execution_count": null,
      "outputs": []
    },
    {
      "cell_type": "code",
      "source": [
        "# PDF-Dokument nach der Seite trennen (man kann auch andere Einheit auswählen)\n",
        "loader = PyPDFLoader(\"./zb_1914_1917.pdf\")\n",
        "pages = loader.load_and_split()\n",
        "# Seite 5 anzeigen\n",
        "pages[8].page_content"
      ],
      "metadata": {
        "colab": {
          "base_uri": "https://localhost:8080/",
          "height": 191
        },
        "id": "J7BDCzAR2Gcb",
        "outputId": "942f3299-affa-40ff-da3c-2c5f59bed9a7"
      },
      "execution_count": null,
      "outputs": [
        {
          "output_type": "execute_result",
          "data": {
            "text/plain": [
              "'erhob sich die für das Personal überaus wichtige Frage, ob\\ndie bisherigen, imDienste der beidseitigen Bibliotheken ver—\\nbrachten Jahre anzurechnen seien oder nicht. Wenn ja, s0\\nhatte die Zentralbibliothek éin nicht unerhebliches Lintritts-\\ndefizit zuübernehmen. Einrechtlicher Anspruch aufAnrechnung\\ndeèrDienstjahre bestand selbstverständlich nicht; dagegen glaubten\\ndieAngehörigen derStadtbibliothek wenigstens einen moralischen\\neérheben zudürfen. Um derBibliothekbehörde dieZustimmung\\nzuerleichtern, erklärte sieh dasPersonal fürden Fall derAn-\\nrechnung der Dienstjabre beéreit, statt des den städtischen\\nBeéamten auferlegten Jahresbeitrages von 1420,0 des Geéhalts,\\néinen solchen von 29200 zuleisten und dasRentenbezugsalter\\nvom 65. auf das vollendete 70.Altersjahr zuverschieben, was\\ndie Prämieneinzahlungen der Zentralbibliotheß von 79,0 auf\\n50herabzusetzen gestattete. Zudiesem Betrage kam freilich für\\nden Arbeitsgeber noch dieVerzinsung des Eintrittsdefizits. Die\\nBibliothekkommission beschlob, Billigkeit walten zulassen und\\nfür das vollbeschäftigte Personal unter Anrechnung derDienst-\\njahre der städt. Versicherungskasse beizutreten. Den Beamten\\nderKantonsbibliothek blieb anheimgestellt, sich mitderWitwen-\\nund Waisenkasse für dieBeamten des Kantons auseinander-\\nzusetzen, d.h.unter Einzahlung verdoppelter Beiträge im\\nVerband zubleiben oder auf die gemachten Einzablungen zu\\nverzichten.\\nfFinanz⸗· undRechnungswesen. Das Rechnungswesen derKan-—\\ntonsbibliothek wie der Stadtbiblothek war für Kapital- und\\nKorrentrechnung nicht von den Biblothekleitungen besorgt\\nworden, sondern aufdereinen Seite vom Kantonsschulvervalter,\\naufderandern Seite von einem gemeinnützig amtenden Quästor.\\nFür dieZentralbibliotheßk war eine neue Regelung erforderlich.\\nDie Korrentrechnung mubte ohne weiteres der Bibliotheblei-—\\ntung zufallen. Dagegen konnte ihrdieVerwaltung derverschie—\\ndenen dem Beétrieb dienenden Fonds nicht zugemutet werden.\\nDie kantonale Finanzdirektion betraute damit die Staatskasse\\nund übertrug ihrem Rechnungsrevisorat die Prüfung der je—\\nweiligen Korrentrechnung.'"
            ],
            "application/vnd.google.colaboratory.intrinsic+json": {
              "type": "string"
            }
          },
          "metadata": {},
          "execution_count": 3
        }
      ]
    },
    {
      "cell_type": "code",
      "source": [
        "pages[6].page_content"
      ],
      "metadata": {
        "colab": {
          "base_uri": "https://localhost:8080/",
          "height": 191
        },
        "id": "Sl1xfTaM8agh",
        "outputId": "8a0f165d-d39a-41cd-babd-4a94cde2b92d"
      },
      "execution_count": null,
      "outputs": [
        {
          "output_type": "execute_result",
          "data": {
            "text/plain": [
              "'Emporwachsen desNeubaus unwobnlich geworden waren. Dort\\nwurden biszum Umzug dielaufenden Geschäfte érledigt, dort\\ntraten dieBibliothekare zuden inderBibliothekordnung vor-\\ngesehenen regelmäßigen Konferenzen zusammen, und dort war,\\ntrotz derDeberfüllung derRäume, auch Plata zuschaffen für\\nden neuen Zuvwachs.\\nPersonal. Nach den getroffenen Vereinbarungen übernahm\\ndieZentralbibliothek aufden 1.Januar 1916 dasPersonal der\\nKantons- und der Stadtbibliothek. Für den neuen Beamten-\\nkörper wurden einhbeitliche Anstellungs- und Dienstverhältnisse\\naufgestellt. Neu gewählt wurde alsBibliothekar Herr Dr.Bruno\\nHirzel von Züriech; alsBureaugebilfin, später alsBibliothek-\\ngehiltfin Fräulein Clara Michel von Zürich.\\nAuberhalb des festangestellten Personals istseit Sommer\\n1917, Dank derHilfe eines Gönners, Herr Arthur Bueb von\\nOltingen RKt.Baselland inderBibliothek beschäftigt. AlsVolon-\\ntäre waren tätig: vom 1.April bis30.September 1916 Herr\\nDr. Otto Gréuter vonWinterthur; vom 1.April bis30.Sep-\\ntember 1917 Fräulein Dr. Else Gutknecht von Reérzers und.\\nvom 1.Oktober 1917 bis31.März 1918 Eräulein Dr. Helen\\nWild von 8t.Gallen. Einen abgekürzten Einführungskurs in\\ndieVerwaltung derBibliothek machte imDezember 1917 Herr\\nAndré Bovet durch, der aufNeujahr 1918 alsAdjunkt des\\nDirektors indenBeamtenkörper Bibliothek derStadt Neuen-\\nburg eéeinzutreten hatte.\\nHerr Heinrich Appenzeller, dessen höchst wertvolle Mit-\\nwirkung anden graphischen Sammlungen schon der Stadt-\\nbibliothek inihren letzten Jahren zuGute gekommen war und\\nder dieser überdies seine eigene kostbare Sammlung geschenkt\\nhatte, war imSommerhalbjahr 1916 auch fürdieneue Anstalt\\ntätig, inFortsetzung einer Abrede, zuder seinerzeit Preundes-\\nhilfe dieMöglichkeit geschaffen hatte.\\nFür ihre freiwillige Mitwirkung weiß dieBibliothek lebhaften\\nDank den Herren Alfons Escher-Zzüblin, der, wie der Stadt-\\nbibliothek, soauch ihrer Rechtsnachfolgerin während derganzen\\nBeétriebszeit inden graphischen Sammlungen und auch sonst'"
            ],
            "application/vnd.google.colaboratory.intrinsic+json": {
              "type": "string"
            }
          },
          "metadata": {},
          "execution_count": 4
        }
      ]
    },
    {
      "cell_type": "code",
      "source": [
        "os.environ[\"OPENAI_API_KEY\"] = \"[YOUR API KEY]\"\n",
        "openai.api_key = os.getenv(\"OPENAI_API_KEY\")\n",
        "llm = ChatOpenAI(temperature=0, model_name=\"gpt-3.5-turbo\")"
      ],
      "metadata": {
        "id": "LfUzRb_Z2SXa"
      },
      "execution_count": null,
      "outputs": []
    },
    {
      "cell_type": "code",
      "source": [
        "# Wenn kein Modell hier genannt, dann wird \"text-embedding-ada-002\" genommen.\n",
        "# Chroma wird hier als Vector Store verwendet\n",
        "embeddings = OpenAIEmbeddings()\n",
        "vectorstore = Chroma.from_documents(pages, embedding=embeddings, persist_directory=\".\")\n",
        "vectorstore.persist()"
      ],
      "metadata": {
        "id": "xPABZCpj2Yz1"
      },
      "execution_count": null,
      "outputs": []
    },
    {
      "cell_type": "code",
      "source": [
        "pdf_qa = ConversationalRetrievalChain.from_llm(llm, vectorstore.as_retriever(), return_source_documents=True)\n"
      ],
      "metadata": {
        "id": "fAJLl4PE2li1"
      },
      "execution_count": null,
      "outputs": []
    },
    {
      "cell_type": "code",
      "source": [
        "query = \"Für wen war die Revision der Titelaufnahmen wichtig?\"\n",
        "chat_history = []\n",
        "\n",
        "result = pdf_qa({\"question\": query, \"chat_history\": chat_history})\n",
        "\n",
        "result[\"answer\"]"
      ],
      "metadata": {
        "colab": {
          "base_uri": "https://localhost:8080/",
          "height": 35
        },
        "id": "8AuyxVf_2lVx",
        "outputId": "90a9c906-9512-474f-92f1-d2f1d1507a51"
      },
      "execution_count": null,
      "outputs": [
        {
          "output_type": "execute_result",
          "data": {
            "text/plain": [
              "'Die Revision der Titelaufnahmen war für die drei kleineren Bibliotheken wichtig.'"
            ],
            "application/vnd.google.colaboratory.intrinsic+json": {
              "type": "string"
            }
          },
          "metadata": {},
          "execution_count": 10
        }
      ]
    },
    {
      "cell_type": "code",
      "source": [
        "result[\"source_documents\"]"
      ],
      "metadata": {
        "colab": {
          "base_uri": "https://localhost:8080/"
        },
        "id": "AyPAAdVM2zJP",
        "outputId": "d529b7c4-1ede-4825-fc73-903445ca6f36"
      },
      "execution_count": null,
      "outputs": [
        {
          "output_type": "execute_result",
          "data": {
            "text/plain": [
              "[Document(page_content='— — —\\nwährend Jahrzehnten der Stadtbibliothek lebhafte Teilnahme\\nzugewandt hatte, gelangte einvon seiner imJahre 1894 ver-\\nstorbenen Schwiegermutter Frau Plis. Hagenbuch-Ott hinter-\\nlassenes Testament zurAusführung, das für den z.Zz.noch\\nbesonders zuverwaltenden Stadtbibliothekfonds dieZuwendung\\nvon PFr. 28,927. 20ergab und der Zentralbibliothek überdies\\neine reiche, vom Vater derErblasserin angelegte MAutographen-\\nsammlung 2zuführte.\\nZum Andenken anVerstorbene kamen uns zu: von den\\nHinterlasscnen des Herrn O.Abegg-Arter Fr.25,000. —; von\\ndenen des Herrn H.O.Bodmer, éinstigen Münzdirektors der\\nStadtbibliothek, die Summe von Fr.25,000. —; von den Ge-\\nschwistern des Herru Dr. G.Finsler, Rektors des bernischen\\nLiterargymnasiums, eine grobe AuswWahl vonWérken ausdessen\\ninsbesoudere anHomeérliteratur reicher Bibliothek; von den\\nHinterlassenen desHerru Emil Gebner inWädenswil Fr.5000. —.\\nEinige fürdieBibliothek bedeutsame Zeitpunkte drückten\\nsieh auch inGaben aus. Soschenkten uns: der soeben ge—\\nnannte Herr Dr. O.Reller-PRscher im Juli 1914 nach der\\nBestellung der Bibliothekbehörde dureh die Stifter und in\\nErinnerung daran, daß unter den fünk Gründern der Stadt⸗\\nbibliothek imJahre 1629 nicht weniger alsvier derFamilie\\nReller angehörten oder mit ihr vervwandt waren, Fr.500. —\\nfüreine erste Anschaffung; Herr Dr. O.Escher, letzter Kon-\\nventspräsident der Stadtbibliothekgesellschaft, auf den 5.Mai\\n1916, den Tag derletzten Generalversammlung genannter Ge-\\nsellschaft, ebenfalls für eine Anschaffung Fr.600.—; Herr\\nProf. Dr. H.Reichel auf die Beétriebseröffnung im Neubau,\\n28.April 1918, eindieBedeutung desTages vergegenwärtigendes\\nRelief; Herr Dr. Ed. Rübel auf den 25.August 1917, den\\nTag der wegen der Zeitlage inengem Rreise abgehaltenen\\nBinweihungsfeier, Fr.1000. —fürAnschaffung botanischer Werkbe.\\nWeiterhin überwiesen uns: Frau Robert Schwarzenbach\\nFr. 4000; der für Aufgaben imBeéréich der Armééleitung\\nbeurlaubte Herr Prof. Dr. Max Huber von derstaatswissen-\\n gchaftlichen Fakultät für das Sommeérsemeéester 1915 sein Ge—', metadata={'page': 18, 'source': './zb_1914_1917.pdf'}),\n",
              " Document(page_content='Emporwachsen desNeubaus unwobnlich geworden waren. Dort\\nwurden biszum Umzug dielaufenden Geschäfte érledigt, dort\\ntraten dieBibliothekare zuden inderBibliothekordnung vor-\\ngesehenen regelmäßigen Konferenzen zusammen, und dort war,\\ntrotz derDeberfüllung derRäume, auch Plata zuschaffen für\\nden neuen Zuvwachs.\\nPersonal. Nach den getroffenen Vereinbarungen übernahm\\ndieZentralbibliothek aufden 1.Januar 1916 dasPersonal der\\nKantons- und der Stadtbibliothek. Für den neuen Beamten-\\nkörper wurden einhbeitliche Anstellungs- und Dienstverhältnisse\\naufgestellt. Neu gewählt wurde alsBibliothekar Herr Dr.Bruno\\nHirzel von Züriech; alsBureaugebilfin, später alsBibliothek-\\ngehiltfin Fräulein Clara Michel von Zürich.\\nAuberhalb des festangestellten Personals istseit Sommer\\n1917, Dank derHilfe eines Gönners, Herr Arthur Bueb von\\nOltingen RKt.Baselland inderBibliothek beschäftigt. AlsVolon-\\ntäre waren tätig: vom 1.April bis30.September 1916 Herr\\nDr. Otto Gréuter vonWinterthur; vom 1.April bis30.Sep-\\ntember 1917 Fräulein Dr. Else Gutknecht von Reérzers und.\\nvom 1.Oktober 1917 bis31.März 1918 Eräulein Dr. Helen\\nWild von 8t.Gallen. Einen abgekürzten Einführungskurs in\\ndieVerwaltung derBibliothek machte imDezember 1917 Herr\\nAndré Bovet durch, der aufNeujahr 1918 alsAdjunkt des\\nDirektors indenBeamtenkörper Bibliothek derStadt Neuen-\\nburg eéeinzutreten hatte.\\nHerr Heinrich Appenzeller, dessen höchst wertvolle Mit-\\nwirkung anden graphischen Sammlungen schon der Stadt-\\nbibliothek inihren letzten Jahren zuGute gekommen war und\\nder dieser überdies seine eigene kostbare Sammlung geschenkt\\nhatte, war imSommerhalbjahr 1916 auch fürdieneue Anstalt\\ntätig, inFortsetzung einer Abrede, zuder seinerzeit Preundes-\\nhilfe dieMöglichkeit geschaffen hatte.\\nFür ihre freiwillige Mitwirkung weiß dieBibliothek lebhaften\\nDank den Herren Alfons Escher-Zzüblin, der, wie der Stadt-\\nbibliothek, soauch ihrer Rechtsnachfolgerin während derganzen\\nBeétriebszeit inden graphischen Sammlungen und auch sonst', metadata={'page': 6, 'source': './zb_1914_1917.pdf'}),\n",
              " Document(page_content='— ——7—\\nindem Sinne, dab daneben auch Vorausbestellung möglich ist.\\nZur ausschlieblichen Vorausbestellung mubten wir fürgewisse\\nBeéstände derStadtbibſßothek, dieindenVorumzug einbezogen\\nwurden, vom Spätherbsſt 1916 bis zur Betriebseröffnung im\\nNeubau greifen, für die Universitätsschriften der Rantons-\\nbibliothex vom Neujahr 1917 an. Dab derBestelldienst auch\\ninden érsten Monaten des Beétriebes im Neubau, vährend\\nderen die Bestände des Predigerchors imUmzug besriffen\\nvaren, dasPersonal inden neuen Räumen sich selber erst zurecht-\\nzufinden hatte und dieAusleih-Matérialien und -Kontrollen der\\nfünferlei Bestände ineinander gearbeitet werden mubten, mit\\nvielfachen Hemmungen verbunden war, bedarf wohbl keiner\\nbesondern Entschuldigung.\\nUmdem Benutzer denDeberblick über dieimKatalogsaal\\nvereinigten Kataloge zu érleichtern, wurde Ende 1917 ein\\n„Führer durch den Katalogsaal* herausgegeben.\\nDeber denUmfang derBenutzung geben dienachfolgenden\\nZahlen Auskunft, die für das Jahr 1916 nur nach den ver—\\nschiedenen Binzelbibliotheken und erst für 1917, und auch hier\\nzunächst nur für den Bezug nach Hause, nach Beéenutzer-\\nkategorien gruppiert werden konnten.\\nEswurden Bücher bezogen:\\nimJahre 1916\\n eet d ſe * Tog\\ninden Lesesaal 7477 341 1783 21872 31473\\nnach Hause 14163 723 891 25170 40947\\nTotal 21640 1064 2674 47042 72420 \\nund imJahré 1917\\nVon Angehörigen der Beamten Mittel- Andern Auswart. Fotal\\n Univer- Techn. Geistl. schulern hies.\\nsität H.-Sch. Lebrern (ob. KI.) Benutzern\\nin den Lesesaa“ — — —2 — —* — 27120\\nnach Hause 16567 1113 4391 8051 8501 23776 41000\\nTotal — — — — —888120 \\n*Indieser Zahl sind namentlich die vielen im Kanton, aber außerhalb der\\nStadt wohnenden Benutzer inbegriffen.', metadata={'page': 30, 'source': './zb_1914_1917.pdf'}),\n",
              " Document(page_content='— 8\\nStandortsverzeichnisse und zudem dieInkunabeln derKantons-\\nbibliothek, soweit sienoch inden zugewöhnlicher Benutzung\\nberéeitstehenden Gestellen verwahrt waren, herausgenommen und\\nbesonders zusammengéstellt.\\nEine kKriegsliteratursammlung hat imJahre 1914 s8chon die\\nStadtbibliotheß anzulegen begonnen. Die Zentralbibliothek\\nsetzte sie fort, beschränkte sieb aber, wie ihre Vorgängerin,\\nim Meseéentlichen auf Schriften, die ihr ein freundlicher Wind\\noder propagandistischer Trieb derKriegsparteien zuführte.\\nMit der Zusammenstellung der Bibliothek fürden Lesesaal\\nhatten wir schon imHerbst 1916 begonnen. Die sehr be—\\nschränkten Bestände der bisherigen beidseitigen Handbiblio-\\ntheken wurden ausdenReihen derverleibbaren Werke ergünzt\\nund -dazu éine grobe Zahl neuer, zum Teil noch aus den\\nKreéditen der alten Bibliotheken, angeschafft. Das gestattéte,\\nden Beénutzern des neuen Lesesaals gleieh schon zuBeéginn\\néine stattliche Handbibliotbek zurVerfügung zuntstéllen. Die\\nausschlieblich aus Doubletten bestehendeée Heélvetica-Präsenz-\\nbiblotheßk der Stadtbibliothek (Abteilunz LSH) wurde als\\nwesentlicher Bestandteil indie Handbibliothek desLesesaals\\naufgenommen. Im Katalogsaal wurde dieAbteilung „Buch-—\\nwesen“ derStadtbibliothek, vermehrt durch einschlägige MWerke\\nderKantonsbibliothek, alsbibliographische Handbibliothek zur\\nVerfügung derBenutzer gestellt.\\nDer Zeitschriftensaal Konnte erst aufSeptember 1917 er—\\nöffnet werden, weil ihm eéine durchgreifende, Neuorganisation\\ndes ganzen Dienstes vorangehen mußte.\\nHandschriflten. Der von der Stadtbibliotheß beéegonnene\\nKatalog ihrer handschriftlichen Bestände, andem Herr Dr.\\nErnst Gagliardi seit Jahren beschäftigt ist, wurde von der\\nZentralbibliothek inFortsetzung der bisberigen besondern Ab-\\nrede mitdem Béarbeiter weitergeführt. Diematerielle Redaktion\\ndergesamten Bestände, mit MAusnahme derAbteilung O(die\\nimwesentlichen witteélalterliche kirchlieb-liturgische Handschriften\\numfaßt) war schon imJahre 1914 béendet, und esKonnte\\nhierauf dieformale Redaktion einsetzen, d.h.dieHeérstellung', metadata={'page': 27, 'source': './zb_1914_1917.pdf'})]"
            ]
          },
          "metadata": {},
          "execution_count": 9
        }
      ]
    }
  ]
}